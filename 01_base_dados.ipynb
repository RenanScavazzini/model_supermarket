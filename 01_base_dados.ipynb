{
 "cells": [
  {
   "cell_type": "markdown",
   "metadata": {
    "application/vnd.databricks.v1+cell": {
     "cellMetadata": {
      "byteLimit": 2048000,
      "rowLimit": 10000
     },
     "inputWidgets": {},
     "nuid": "457096a4-3864-439e-8345-80273ab005a1",
     "showTitle": false,
     "tableResultSettingsMap": {},
     "title": ""
    }
   },
   "source": [
    "\n",
    "# Base de Dados\n",
    "\n",
    "</br>\n",
    "\n",
    "<img src=\"image/python_supermercado_2025.jpg\" alt=\"Descrição da imagem\" width=\"80%\">\n",
    "\n",
    "O objetivo deste notebook é realizar a leitura e estruturação da base de dados que será utilizada para a modelagem. A base de dados contém notas fiscais de dois supermercados atacadistas, cobrindo o período de junho de 2022 a junho de 2025.\n"
   ]
  },
  {
   "cell_type": "markdown",
   "metadata": {
    "application/vnd.databricks.v1+cell": {
     "cellMetadata": {
      "byteLimit": 2048000,
      "rowLimit": 10000
     },
     "inputWidgets": {},
     "nuid": "93dcf3ff-c739-4bac-bd68-d12dc3490ed8",
     "showTitle": false,
     "tableResultSettingsMap": {},
     "title": ""
    }
   },
   "source": [
    "<img src=\"/Workspace/Users/renanscavazzini@gmail.com/github/modelos/model_supermarket/image/hr-python.png\" width=\"6.5%\">\n",
    "<img src=\"/Workspace/Users/renanscavazzini@gmail.com/github/modelos/model_supermarket/image/hr-python.png\" width=\"6.5%\">\n",
    "<img src=\"/Workspace/Users/renanscavazzini@gmail.com/github/modelos/model_supermarket/image/hr-python.png\" width=\"6.5%\">\n",
    "<img src=\"/Workspace/Users/renanscavazzini@gmail.com/github/modelos/model_supermarket/image/hr-python.png\" width=\"6.5%\">\n",
    "<img src=\"/Workspace/Users/renanscavazzini@gmail.com/github/modelos/model_supermarket/image/hr-python.png\" width=\"6.5%\">\n",
    "<img src=\"/Workspace/Users/renanscavazzini@gmail.com/github/modelos/model_supermarket/image/hr-python.png\" width=\"6.5%\">\n",
    "<img src=\"/Workspace/Users/renanscavazzini@gmail.com/github/modelos/model_supermarket/image/hr-python.png\" width=\"6.5%\">\n",
    "<img src=\"/Workspace/Users/renanscavazzini@gmail.com/github/modelos/model_supermarket/image/hr-python.png\" width=\"6.5%\">\n",
    "<img src=\"/Workspace/Users/renanscavazzini@gmail.com/github/modelos/model_supermarket/image/hr-python.png\" width=\"6.5%\">\n",
    "<img src=\"/Workspace/Users/renanscavazzini@gmail.com/github/modelos/model_supermarket/image/hr-python.png\" width=\"6.5%\">\n",
    "<img src=\"/Workspace/Users/renanscavazzini@gmail.com/github/modelos/model_supermarket/image/hr-python.png\" width=\"6.5%\">\n",
    "<img src=\"/Workspace/Users/renanscavazzini@gmail.com/github/modelos/model_supermarket/image/hr-python.png\" width=\"6.5%\">\n",
    "<img src=\"/Workspace/Users/renanscavazzini@gmail.com/github/modelos/model_supermarket/image/hr-python.png\" width=\"6.5%\">\n",
    "<img src=\"/Workspace/Users/renanscavazzini@gmail.com/github/modelos/model_supermarket/image/hr-python.png\" width=\"6.5%\">"
   ]
  },
  {
   "cell_type": "markdown",
   "metadata": {
    "application/vnd.databricks.v1+cell": {
     "cellMetadata": {
      "byteLimit": 2048000,
      "rowLimit": 10000
     },
     "inputWidgets": {},
     "nuid": "8bc8949a-1bfd-4f82-b9eb-09eec19ff896",
     "showTitle": false,
     "tableResultSettingsMap": {},
     "title": ""
    }
   },
   "source": [
    "\n",
    "## 1. Configura as bibliotecas"
   ]
  },
  {
   "cell_type": "code",
   "execution_count": 0,
   "metadata": {
    "application/vnd.databricks.v1+cell": {
     "cellMetadata": {
      "byteLimit": 2048000,
      "rowLimit": 10000
     },
     "inputWidgets": {},
     "nuid": "1243eb49-4a64-4075-ba7b-cb34ec1879e2",
     "showTitle": false,
     "tableResultSettingsMap": {},
     "title": ""
    }
   },
   "outputs": [],
   "source": [
    "# !pip install nfceget\n",
    "# !pip install bs4\n",
    "# !pip install openpyxl"
   ]
  },
  {
   "cell_type": "code",
   "execution_count": 0,
   "metadata": {
    "application/vnd.databricks.v1+cell": {
     "cellMetadata": {
      "byteLimit": 2048000,
      "rowLimit": 10000
     },
     "inputWidgets": {},
     "nuid": "9a966424-9fe2-448d-af71-4732215c5e78",
     "showTitle": false,
     "tableResultSettingsMap": {},
     "title": ""
    }
   },
   "outputs": [],
   "source": [
    "import time\n",
    "import pandas as pd\n",
    "from functools import reduce\n",
    "from nfceget import app\n",
    "import hashlib\n",
    "import openpyxl\n",
    "from utils.tic_toc import tictoc"
   ]
  },
  {
   "cell_type": "markdown",
   "metadata": {
    "application/vnd.databricks.v1+cell": {
     "cellMetadata": {
      "byteLimit": 2048000,
      "rowLimit": 10000
     },
     "inputWidgets": {},
     "nuid": "44373fa5-29b9-4b3d-a613-70d163fd4682",
     "showTitle": false,
     "tableResultSettingsMap": {},
     "title": ""
    }
   },
   "source": [
    "## 2. Define os parâmetros\n",
    "\n",
    "Aqui estão os parâmetros que deverão ser alterados conforme necessidade."
   ]
  },
  {
   "cell_type": "code",
   "execution_count": 0,
   "metadata": {
    "application/vnd.databricks.v1+cell": {
     "cellMetadata": {
      "byteLimit": 2048000,
      "rowLimit": 10000
     },
     "inputWidgets": {},
     "nuid": "645f4382-f9d0-4d05-82b4-2b14a5d71350",
     "showTitle": false,
     "tableResultSettingsMap": {},
     "title": ""
    }
   },
   "outputs": [],
   "source": [
    "tic_geral = time.time()\n",
    "tic = time.time()\n",
    "\n",
    "dir = '/Workspace/Users/renanscavazzini@gmail.com/github/modelos/model_supermarket'\n",
    "\n",
    "input_file = f'{dir}/data/qrcodes.txt'\n",
    "de_para_file = f'{dir}/data/de_para_nfce.xlsx'\n",
    "output_file = f'{dir}/data/notas_fiscais_supermercado.xlsx'\n",
    "\n",
    "toc = time.time()\n",
    "print(f'\\n\\033[33mEtapa 2 | Tempo:\\033[0;0m {tictoc(tic, toc)}')"
   ]
  },
  {
   "cell_type": "markdown",
   "metadata": {
    "application/vnd.databricks.v1+cell": {
     "cellMetadata": {
      "byteLimit": 2048000,
      "rowLimit": 10000
     },
     "inputWidgets": {},
     "nuid": "2174be04-cc60-479a-91e0-9ae2cf814ac8",
     "showTitle": false,
     "tableResultSettingsMap": {},
     "title": ""
    }
   },
   "source": [
    "## 3. Leitura da base de dados\n",
    "\n",
    "A base de dados consiste em um arquivo TXT que armazena os códigos QR das minhas notas fiscais de supermercado, fornecidas pela Secretaria de Estado da Fazenda do Paraná. Existe um pacote Python que é capaz de extrair informações da página web acessada através do link do código QR em cada nota fiscal do consumidor. Este pacote será empregado para ler essas informações.\n"
   ]
  },
  {
   "cell_type": "code",
   "execution_count": 0,
   "metadata": {
    "application/vnd.databricks.v1+cell": {
     "cellMetadata": {
      "byteLimit": 2048000,
      "rowLimit": 10000
     },
     "inputWidgets": {},
     "nuid": "7956f67f-17f1-4604-b028-3335b4218b5a",
     "showTitle": false,
     "tableResultSettingsMap": {},
     "title": ""
    }
   },
   "outputs": [],
   "source": [
    "tic = time.time()\n",
    "\n",
    "with open(input_file, 'r') as arquivo:\n",
    "    arquivo = arquivo.readlines()\n",
    "\n",
    "qrcodes = []\n",
    "for linha in arquivo:\n",
    "    qrcodes.append(linha.strip()) # Não deixe linhas com espaço em branco no arquivo.\n",
    "\n",
    "dicionarios = []\n",
    "for dic in qrcodes:\n",
    "    dicionarios.append(app.json_from_qrcode_link(dic))\n",
    "\n",
    "dataframes = []\n",
    "for nota in dicionarios:\n",
    "    df_nota = pd.DataFrame(nota['itens'])\n",
    "\n",
    "    for key, value in nota['local'].items():\n",
    "        df_nota['local_' + key] = value\n",
    "    for key, value in nota['nfce'].items():\n",
    "        df_nota['nfce_' + key] = value\n",
    "\n",
    "    dataframes.append(df_nota)\n",
    "\n",
    "df = pd.concat(dataframes, ignore_index=True)\n",
    "\n",
    "df[['name', 'code', 'quantity', 'unitaryValue', 'totalValue', 'local_name', 'local_cnpj', 'nfce_date']].display()"
   ]
  },
  {
   "cell_type": "code",
   "execution_count": 0,
   "metadata": {
    "application/vnd.databricks.v1+cell": {
     "cellMetadata": {
      "byteLimit": 2048000,
      "rowLimit": 10000
     },
     "inputWidgets": {},
     "nuid": "fb3c6329-bc6f-4528-b195-b95767abbe51",
     "showTitle": false,
     "tableResultSettingsMap": {},
     "title": ""
    }
   },
   "outputs": [],
   "source": [
    "toc = time.time()\n",
    "print(f'\\n\\033[33mEtapa 3 | Tempo:\\033[0;0m {tictoc(tic, toc)}')"
   ]
  },
  {
   "cell_type": "markdown",
   "metadata": {
    "application/vnd.databricks.v1+cell": {
     "cellMetadata": {
      "byteLimit": 2048000,
      "rowLimit": 10000
     },
     "inputWidgets": {},
     "nuid": "740e1aa9-1e17-41b2-bfad-c97423a99836",
     "showTitle": false,
     "tableResultSettingsMap": {},
     "title": ""
    }
   },
   "source": [
    "## 4. Anonimação de dados sensíveis\n",
    "\n",
    "Para evitar divulgar dados sensíveis, não irei disponibilizar o arquivo txt dos códigos QR, apenas o arquivo final em xlsx já tratado. Caso deseje replicar o código com as suas notas fiscais basta criar um arquivo txt com os links do código QR disponível na nota, que ficam no formato:\n",
    "\n",
    "- https://www.fazenda.pr.gov.br/nfce/qrcode?p=1234567890ABC1234567890ABC1234567890ABC1234567890ABC1234567890ABC1234567890ABC1234567890ABC12345678 "
   ]
  },
  {
   "cell_type": "code",
   "execution_count": 0,
   "metadata": {
    "application/vnd.databricks.v1+cell": {
     "cellMetadata": {
      "byteLimit": 2048000,
      "rowLimit": 10000
     },
     "inputWidgets": {},
     "nuid": "f6b4c7fa-ccb2-45be-948c-bea851a4d954",
     "showTitle": false,
     "tableResultSettingsMap": {},
     "title": ""
    }
   },
   "outputs": [],
   "source": [
    "tic = time.time()\n",
    "\n",
    "# Criar mapeamento original -> hash\n",
    "def hash_nfce(chave):\n",
    "    return hashlib.sha256(chave.encode()).hexdigest()\n",
    "\n",
    "df['nfce_chave_anon'] = df['nfce_chave'].astype(str).apply(hash_nfce)\n",
    "de_para = df[['nfce_chave', 'nfce_chave_anon']].drop_duplicates()\n",
    "\n",
    "toc = time.time()\n",
    "print(f'\\n\\033[33mEtapa 4 | Tempo:\\033[0;0m {tictoc(tic, toc)}')"
   ]
  },
  {
   "cell_type": "markdown",
   "metadata": {
    "application/vnd.databricks.v1+cell": {
     "cellMetadata": {
      "byteLimit": 2048000,
      "rowLimit": 10000
     },
     "inputWidgets": {},
     "nuid": "d635060a-3177-4f44-8597-6a505e87e849",
     "showTitle": false,
     "tableResultSettingsMap": {},
     "title": ""
    }
   },
   "source": [
    "## 5. Preparação dos dados"
   ]
  },
  {
   "cell_type": "code",
   "execution_count": 0,
   "metadata": {
    "application/vnd.databricks.v1+cell": {
     "cellMetadata": {
      "byteLimit": 2048000,
      "rowLimit": 10000
     },
     "inputWidgets": {},
     "nuid": "f3feffe1-3cb8-4b03-a384-05afd7d2e15e",
     "showTitle": false,
     "tableResultSettingsMap": {},
     "title": ""
    }
   },
   "outputs": [],
   "source": [
    "tic = time.time()"
   ]
  },
  {
   "cell_type": "markdown",
   "metadata": {
    "application/vnd.databricks.v1+cell": {
     "cellMetadata": {
      "byteLimit": 2048000,
      "rowLimit": 10000
     },
     "inputWidgets": {},
     "nuid": "d0b3fa09-8561-4f43-8394-2c34588e26f2",
     "showTitle": false,
     "tableResultSettingsMap": {},
     "title": ""
    }
   },
   "source": [
    "### 5.1 Deletar colunas\n",
    "\n",
    "Para facilitar a manipulação de dados, vou selecionar apenas as variáveis que serão utilizadas de alguma forma e renomear com um nome mais sujestivo.\n",
    "\n",
    "- name: PRODUTO\t\n",
    "- code:\tCOD_PRODUTO\n",
    "- quantity: QTDE\n",
    "- unit: UNIDADE\n",
    "- unitaryValue: VALOR_UNIDADE\n",
    "- totalValue: VALOR_TOTAL\n",
    "- local_name: <font color=\"red\">Será deletada!</font> \n",
    "- local_cnpj: CNPJ\n",
    "- local_address: <font color=\"red\">Será deletada!</font>\n",
    "- nfce_numero: <font color=\"red\">Será deletada!</font>\n",
    "- nfce_serie: <font color=\"red\">Será deletada!</font>\n",
    "- nfce_date: DATA\n",
    "- nfce_protocolo: <font color=\"red\">Será deletada!</font>\n",
    "- nfce_version: <font color=\"red\">Será deletada!</font>\n",
    "- nfce_chave: <font color=\"red\">Será deletada!</font>\n",
    "- nfce_chave_anon: CHAVE"
   ]
  },
  {
   "cell_type": "code",
   "execution_count": 0,
   "metadata": {
    "application/vnd.databricks.v1+cell": {
     "cellMetadata": {
      "byteLimit": 2048000,
      "rowLimit": 10000
     },
     "inputWidgets": {},
     "nuid": "baffc757-4d25-4313-9671-e15430a047bd",
     "showTitle": false,
     "tableResultSettingsMap": {},
     "title": ""
    }
   },
   "outputs": [],
   "source": [
    "# Deletar colunas\n",
    "df = df.drop(columns=['local_name', \n",
    "                      'local_address',\n",
    "                      'nfce_numero', \n",
    "                      'nfce_serie', \n",
    "                      'nfce_protocolo', \n",
    "                      'nfce_version',\n",
    "                      'nfce_chave'])\n",
    "\n",
    "# Renomear colunas\n",
    "df = df.rename(columns={\n",
    "    'name': 'PRODUTO',\n",
    "    'code': 'COD_PRODUTO',\n",
    "    'quantity': 'QTDE',\n",
    "    'unit': 'UNIDADE',\n",
    "    'unitaryValue': 'VALOR_UNIDADE',\n",
    "    'totalValue': 'VALOR_TOTAL',\n",
    "    'local_cnpj': 'CNPJ',\n",
    "    'nfce_date': 'DATA',\n",
    "    'nfce_chave_anon': 'CHAVE'\n",
    "})"
   ]
  },
  {
   "cell_type": "markdown",
   "metadata": {
    "application/vnd.databricks.v1+cell": {
     "cellMetadata": {
      "byteLimit": 2048000,
      "rowLimit": 10000
     },
     "inputWidgets": {},
     "nuid": "4420ca69-6cc2-4d31-b742-93d4267f86e7",
     "showTitle": false,
     "tableResultSettingsMap": {},
     "title": ""
    }
   },
   "source": [
    "### 5.2 Filtrar dados\n",
    "\n",
    "A base de dados contém informações de várias notas fiscais, o foco do estudo são compras em supermercados, sendo assim vou selecionar os dois CNPJs dos supermercados que mais frequento, evitando assim que misture notas fiscais de outros produtos que não seja supermercado. \n",
    "\n",
    "- IRMAOS MUFFATO S A: 76.430.438/0070-01 (MAX)\n",
    "- SENDAS DISTRIBUIDORA S/A: 06.057.223/0367-96 (ASSAI)"
   ]
  },
  {
   "cell_type": "code",
   "execution_count": 0,
   "metadata": {
    "application/vnd.databricks.v1+cell": {
     "cellMetadata": {
      "byteLimit": 2048000,
      "rowLimit": 10000
     },
     "inputWidgets": {},
     "nuid": "c8f81298-098f-46d0-8c5e-1aef62ee0104",
     "showTitle": false,
     "tableResultSettingsMap": {},
     "title": ""
    }
   },
   "outputs": [],
   "source": [
    "# Mantendo apenas o MAX e o ASSAI:\n",
    "cnpjs = ['76.430.438/0070-01', '06.057.223/0367-96']\n",
    "df = df[df['CNPJ'].isin(cnpjs)]\n",
    "\n",
    "# Coluna 'SUPERMERCADO'\n",
    "df['SUPERMERCADO'] = df['CNPJ'].apply(lambda x: 'MAX' if x == '76.430.438/0070-01' else ('ASSAI' if x == '06.057.223/0367-96' else x))\n",
    "\n",
    "# Deletar a coluna 'CNPJ'\n",
    "df = df.drop(columns=['CNPJ'])\n",
    "\n",
    "# Dimensão:\n",
    "num_linhas, num_colunas = df.shape\n",
    "print(f\"\"\"\n",
    "- Número de linhas: \\033[93m{num_linhas:,}\\033[0m \n",
    "- Número de colunas: \\033[93m{num_colunas:,}\\033[0m\"\"\".replace(',', '.'))"
   ]
  },
  {
   "cell_type": "markdown",
   "metadata": {
    "application/vnd.databricks.v1+cell": {
     "cellMetadata": {
      "byteLimit": 2048000,
      "rowLimit": 10000
     },
     "inputWidgets": {},
     "nuid": "b21dee47-fc06-40ed-98e0-c63c3f6dfc31",
     "showTitle": false,
     "tableResultSettingsMap": {},
     "title": ""
    }
   },
   "source": [
    "### 5.3 Sintetizar informações\n",
    "\n",
    "É possível que o operador de caixa registre o mesmo produto em sequências diferentes. Isso pode resultar na aparição repetida de um produto na mesma nota fiscal, sem que as quantidades sejam somadas corretamente.\n",
    "\n",
    "Para contornar esse problema, a base de dados será organizada por produto para cada chave única. O valor unitário será mantido, enquanto as quantidades e os valores totais serão somados."
   ]
  },
  {
   "cell_type": "code",
   "execution_count": 0,
   "metadata": {
    "application/vnd.databricks.v1+cell": {
     "cellMetadata": {
      "byteLimit": 2048000,
      "rowLimit": 10000
     },
     "inputWidgets": {},
     "nuid": "5ec1ed49-1ff6-4f9b-9d72-5688606b06cb",
     "showTitle": false,
     "tableResultSettingsMap": {},
     "title": ""
    }
   },
   "outputs": [],
   "source": [
    "# Ajustando os tipos para fazer operações\n",
    "df['DATA'] = pd.to_datetime(df['DATA'], format='%d/%m/%Y %H:%M:%S')\n",
    "\n",
    "for col in ['VALOR_UNIDADE', 'QTDE', 'VALOR_TOTAL']:\n",
    "    df[col] = df[col].str.replace(',', '.').astype(float)\n",
    "df[['VALOR_UNIDADE', 'QTDE', 'VALOR_TOTAL']] = df[['VALOR_UNIDADE', 'QTDE', 'VALOR_TOTAL']].round(2)\n",
    "\n",
    "# Agrupando:\n",
    "df = df.groupby(['CHAVE', 'DATA', 'COD_PRODUTO', 'PRODUTO']).agg({\n",
    "    'SUPERMERCADO': 'first',  # Mantém o nome do supermercado\n",
    "    'UNIDADE': 'first',  # Mantém a unidade\n",
    "    'VALOR_UNIDADE': 'first',  # Mantém o valor unitário\n",
    "    'QTDE': 'sum',  # Soma a quantidade\n",
    "    'VALOR_TOTAL': 'sum'  # Soma o valor total\n",
    "}).reset_index()\n",
    "\n",
    "# Dimensão:\n",
    "num_linhas, num_colunas = df.shape\n",
    "print(f\"\"\"\n",
    "- Número de linhas: \\033[93m{num_linhas:,}\\033[0m \n",
    "- Número de colunas: \\033[93m{num_colunas:,}\\033[0m\"\"\".replace(',', '.'))"
   ]
  },
  {
   "cell_type": "markdown",
   "metadata": {
    "application/vnd.databricks.v1+cell": {
     "cellMetadata": {
      "byteLimit": 2048000,
      "rowLimit": 10000
     },
     "inputWidgets": {},
     "nuid": "436a79d7-cb3b-4dd5-a413-35d388ce2c3f",
     "showTitle": false,
     "tableResultSettingsMap": {},
     "title": ""
    }
   },
   "source": [
    "### 5.4 Criar variáveis\n",
    "\n",
    "A variável data contém informações sobre o dia, mês, ano, hora, minuto e segundo. Vou criar uma nova variável chamada periodo para representar a parte do dia (manhã, tarde ou noite) com base nos dados da variável data. Além disso, será criado também uma variável que define as categorias dos produtos de acordo com palavras chave no nome do produto."
   ]
  },
  {
   "cell_type": "code",
   "execution_count": 0,
   "metadata": {
    "application/vnd.databricks.v1+cell": {
     "cellMetadata": {
      "byteLimit": 2048000,
      "rowLimit": 10000
     },
     "inputWidgets": {},
     "nuid": "7402570d-de70-48c2-9a56-f5186fc81774",
     "showTitle": false,
     "tableResultSettingsMap": {},
     "title": ""
    }
   },
   "outputs": [],
   "source": [
    "# Período do dia\n",
    "df['PERIODO'] = pd.cut(df['DATA'].dt.hour, bins=[0, 12, 18, 24], labels=['Manhã', 'Tarde', 'Noite'], include_lowest=True)\n",
    "\n",
    "# Categoria de produtos\n",
    "categoria_produtos = {\n",
    "    'mercearia': [\n",
    "        'ARROZ', 'FEIJAO', 'FARINHA', 'TRIGO', 'ARROZ INTEGRAL', 'FEIJAO PRETO', \n",
    "        'FEIJ', 'ACUCAR', 'ACUC', 'SUGAR', 'OVO', 'OLEO', 'COAMO', 'FAROFA', 'YOKI',\n",
    "        'ARR', 'FARO'\n",
    "    ],\n",
    "    'massa': [\n",
    "        'MAC', 'MASSA', 'LASANHA', 'NISSIN', 'ESPAGUETE', 'PENNE', 'PINDUCA', \n",
    "        'TALHARIM', 'FETTUCCINE', 'GNOCCHI', 'RAVIOLES', 'MAC INTEGRAL', 'CONCHINHA', \n",
    "        'MAC GRANO', 'MASSA FRESCA', 'LAS PERD'\n",
    "    ],\n",
    "    'cereal': [\n",
    "        'CEREAL', 'NESTLE', 'NESCAU', 'SUCRILHOS', 'AVEIA', 'FLOCOS', 'KELLOGGS', \n",
    "        'GRANOLA', 'MUESLI', 'BARRA', 'CEREAIS INTEGRAL', 'FLOCOS MILHO', 'CEREAL MAT', \n",
    "        'BARRA DE CEREAL', 'AVEIA INSTANT', 'SNOW FLAKES'\n",
    "    ],\n",
    "    'bebida': [\n",
    "        'BEB', 'FANTA', 'AG COC', 'COCA', 'SUCO', 'REFRI', 'ENERGETICO', 'AGUA', \n",
    "        'REFRIG', 'GATORADE', 'ADES', 'CRYSTAL', 'MONSTER', 'DELV', 'NATURAL O', \n",
    "        'LIFE', 'SUCOS', 'TEA', 'VITAMINA', 'MAIS', 'SOYA', 'TANG', 'GUARANA', \n",
    "        'CAFE', 'CHA', 'LEITE', 'SUCO DE FRUTA', 'REFRIG LITE', 'ENERG', 'PRATSY',\n",
    "        'REF', 'SCHWEPPES', 'SCHWEP', 'CITRUS', 'DEL VALLE', 'VALLE', 'YOPRO',\n",
    "        'PURITY', 'GELADINH', 'CRISTAL'\n",
    "    ],\n",
    "    'bebida alcoolica': [\n",
    "        'VODKA', 'CHAMPAGNE', 'CERVEJA', 'SKOL', 'HEINEKEN', \n",
    "        'BUDWEISER', 'SPATEN', 'PETRA', 'BRAHMA', 'STELLA', 'ESTRELLA', 'VINHO', \n",
    "        'ICE', 'PERIQUIT', 'SMIRNOFF', 'BEATS', 'PASSPORT', 'WHISKY', 'COROT', \n",
    "        'CAMPO', 'SUAVE', 'GIN', 'SAKE', 'TEQUILA', 'CERVEJA ARTESANAL', 'VINHO TINTO', \n",
    "        'VINHO BRANCO', 'WHISK', 'JACK DANIEL', 'CERV', \n",
    "    ],\n",
    "    'padaria e frios': [\n",
    "        'MORTADELA', 'PRESUNTO', 'QUEIJO', 'SALAME', 'PEPPA', 'MORTADELA FRANGO', \n",
    "        'FRIO VARIADOS', 'QUEIJO RALADO', 'PAO', 'BOLINHO', 'WAFER', 'BOLO', 'MUFFIN', \n",
    "        'BAUDUCCO', 'MARILAN', 'VISCONTI', 'BAGUETE', 'PAO INTEGRAL', 'PAO QUEIJO', \n",
    "        'PAO DOCE', 'PAO FRANCES', 'BOLO RECHEADO', 'PRES', 'AURORA', 'P FORMA', 'QJO',\n",
    "        'MUSS', 'MORT'\n",
    "    ],\n",
    "    'congelado': [\n",
    "        'PIZZA', 'SALSICHA', 'SORVETE', 'GELADO', 'CONGELADO', 'LASANHA', 'EMPANADO', \n",
    "        'SEARA', 'FRIMESA', 'ICE CREAM', 'BATATA FRITA', 'FRUTAS CONGELADAS', \n",
    "        'REFEICAO PRONTA', 'PEIXE CONGELADO', 'SALSICHA CONGELADA', 'TEKITOS', 'PERDIG',\n",
    "        'SALS'\n",
    "    ],\n",
    "    'acougue': [\n",
    "        'FRANGO', 'PEITO', 'FILE', 'BIFES', 'CARNES', 'BACON', 'CORTES', 'CARNE SUINA', \n",
    "        'COXA', 'LINGUICA', 'PRESUNTO', 'SALSICHA', 'PERDIGAO', 'SEARA', 'FRIMESA', \n",
    "        'CARNE BOV', 'ALCATRA', 'CONTRA FILE', 'COSTELA', 'COSTELA SUINA', 'CARNE MOIDA',\n",
    "        'BIF ACEBOLA', 'MEIO ASA', 'SADIA', 'FRALDINHA', 'COX MOLE', 'FRIBOI', 'FRIB',\n",
    "        'ACEM MO'\n",
    "    ],\n",
    "    'biscoito e snack': [\n",
    "        'BISCOITO', 'CHIPS', 'SNACK', 'FANDANGOS', 'CHEETOS', 'PRINGLES', 'WAFER', \n",
    "        'BOLACHA', 'BOLINHO', 'BISCOITOS INTEGRAL', 'SNACK SALG', 'BATATA PALHA', \n",
    "        'BOLINHO ARROZ', 'SNACK DOCE', 'SALGADOS', 'ELMA', 'SALG', 'PALHA', 'TORR',\n",
    "        'BISC'\n",
    "    ],\n",
    "    'bomboniere': [\n",
    "        'BALA', 'CHOCOLATE', 'BOMBOM', 'KINDER', 'RAFFAELLO', 'TRIDENT', \n",
    "        'HALLS', 'DORI', 'BALAS GOMA', 'PIPOCA DOCE', 'CONFETE', 'CHOC BRANCO', 'LACTA',\n",
    "        'NUTELLA', 'PIRULITO', 'GELATINA'\n",
    "    ],\n",
    "    'laticinio': [\n",
    "        'LEITE', 'QUEIJO', 'IOGURTE', 'CREME', 'MANTEIGA', 'REQUEIJAO', 'ACHOCOLATADO', \n",
    "        'NATURAL', 'PRESIDENT', 'TIROL', 'BATAVO', 'ELEGE', 'MUSSARELA', 'CREME LEITE', \n",
    "        'REFRIGERADO', 'UHT', 'REQUEIJAO CREMOSO', 'QUEIJO CREMOSO', 'IOGUR', 'CREM LTE',\n",
    "        'CREM LEI', 'LEITE COND', 'CR LEI', 'ACHOC', 'CHOCO MILK', 'IOG', 'LIDER', 'DANONINHO',\n",
    "        'CHOC', 'CHOCOMILK', 'BATAV', 'MOOCA'\n",
    "    ],\n",
    "    'molho': [\n",
    "        'MOLHO', 'KETCHUP', 'CATCHUP', 'MAIONESE', 'TEMPERO', 'MOSTARDA', 'SAZON', \n",
    "        'COND', 'HEMMER', 'HELLMANN', 'QUERO', 'POMAROLA', 'PICKLES', 'CREME CEBOLA', \n",
    "        'SALSA', 'MOLHO TARATAR', 'MOLHO PIMENTA', 'ELEFANT', 'CATCH', 'ELEF', 'MAION',\n",
    "        'MOST', 'HELLM', 'HELL'\n",
    "    ],\n",
    "    'lataria e conserva': [\n",
    "        'MILHO', 'ERVILHA', 'LATA', 'CONSERVA', 'SARDINHA', 'ATUM', 'PALMITO', \n",
    "        'EXTRATO', 'BONARE', 'FUGINI', 'SELETA', 'AZEITONA', 'BERINJELA', \n",
    "        'MILHO EM CONSERVA', 'ERVILHA EM LATA'\n",
    "    ],\n",
    "    'condimento': [\n",
    "        'ALHO', 'SAZON', 'TEMPERO', 'TEMP', 'PIMENTA', 'AZEITE', 'MANJER', 'CHIMICHURRI',\n",
    "        'SAL', 'KITANO', 'KININO', 'LOURO', 'CHIMICH', 'CHEIRO', 'TRIANGULO', 'OREGANO'\n",
    "    ],\n",
    "    'limpeza e limpeza': [\n",
    "        'LIMP', 'DETERG', 'SABAO', 'OMO', 'LYSOL', 'VEJA', 'DESINF', 'PINHO', 'SANIT', \n",
    "        'AJAX', 'UOL', 'ALVEJANTE', 'MULTIUSO', 'ESPONJA', 'LIMP', 'DESENGORD', \n",
    "        'LIMP PERFUMADO', 'PILHA', 'PINO', 'EXTENS', 'AMIDO', 'TOALHA', 'ESCOVA',\n",
    "        'FIO DENT', 'SAB DOVE', 'PAP H', 'SHAMPOO', 'COND', 'DESOD', 'SABONETE',\n",
    "        'NEVE', 'FRALDA', 'CREME DENTAL', 'HEAD SHOULDERS', 'NIVEA', 'PAMPERS',\n",
    "        'PROT', 'DESODOR', 'CREME HIDR', 'LENCO', 'COTONETE', 'LEN DESCART',\n",
    "        'FIO DENTAL', 'COLGATE', 'SBP', 'REPEL', 'ABOVE', 'DENT', 'SORRISO', 'DOWN',\n",
    "        'COLG', 'QBOA', 'QUIBOA', 'ESC', 'BABY', 'SOFT', 'DIABO', 'SBT', 'YPE', 'PURIF'\n",
    "    ],\n",
    "    'hortifruti': [\n",
    "        'CEBOLA', 'TOMATE', 'BANANA', 'CENOURA', 'ALFACE', 'MANDIOCA', 'UVA', 'MACA', \n",
    "        'BATATA', 'LARANJA', 'SFERRIE', 'VERDE', 'CEBOLINHA', 'SALSINHA', 'HORTELA',\n",
    "        'ESPINAFRE', 'ABOBORA', 'ABOBRINHA', 'MORANGO', 'MANGA', 'RUCULA', \n",
    "        'BATATA DOCE', 'BETERRABA', 'BROCOLIS', 'PIMENTAO', 'FRUTAS VARIADAS',\n",
    "        'LIMAO', 'MGO', 'LARAN'\n",
    "    ],\n",
    "    'cosmetico': [\n",
    "        'CREME', 'NIELY', 'SHAMPOO', 'SABONETE', 'VENUS', 'NIVEA', 'LOCAO', 'DOVE', \n",
    "        'NEUTROGENA', 'BATOM', 'MAQUIAGEM', 'ESMALTE', 'RIMEL', 'PO', 'BASE', 'ILUM', \n",
    "        'CREME FACIAL', 'LOCAO HIDR', 'SHOUL', 'P H MAX'\n",
    "    ],\n",
    "    'utilidades': [\n",
    "        'COPO', 'PRATO', 'GARFO', 'EXTENS', 'PINO', 'SACO', 'ROLO', 'LIXEIRA', \n",
    "        'PAPEL ALUM', 'FILME PVC', 'PLASVALE', 'SACO LIXO', 'EMBAL A VACUO', \n",
    "        'CAIXA', 'EMBAL PLAST', 'SACO DESCART', 'PARANA', 'FRIGD', 'VELA', 'FILM',\n",
    "        'MINI FRIGID', 'PANELA', 'COPAC', 'CESTO', 'CARVAO', 'PANO', 'LAMPADA', 'RODO',\n",
    "        'FILT', 'DA ILHA', 'ESP'\n",
    "    ],\n",
    "    'pet': [\n",
    "        'RACAO', 'PETISCO', 'COLEIRA', 'BRINQUEDO', 'AREIA', 'GATO', 'CACHORRO', \n",
    "        'WHISKAS', 'PEDIGREE', 'PURINA', 'CAMA', 'TRANSPORTADORA', 'RACAO HUMIDA', \n",
    "        'PETISCOS VARIADOS'\n",
    "    ],\n",
    "    'outros': []\n",
    "}\n",
    "\n",
    "# Função para classificar produtos\n",
    "def classificar_produto(nome_produto):\n",
    "    for categoria, palavras_chave in categoria_produtos.items():\n",
    "        for palavra in palavras_chave:\n",
    "            if palavra in nome_produto.upper():\n",
    "                return categoria.upper()\n",
    "    return 'OUTROS'\n",
    "\n",
    "df['CATEGORIA_PRODUTO'] = df['PRODUTO'].apply(classificar_produto)\n",
    "\n",
    "# Dimensão:\n",
    "num_linhas, num_colunas = df.shape\n",
    "print(f\"\"\"\n",
    "- Número de linhas: \\033[93m{num_linhas:,}\\033[0m \n",
    "- Número de colunas: \\033[93m{num_colunas:,}\\033[0m\"\"\".replace(',', '.'))"
   ]
  },
  {
   "cell_type": "markdown",
   "metadata": {
    "application/vnd.databricks.v1+cell": {
     "cellMetadata": {
      "byteLimit": 2048000,
      "rowLimit": 10000
     },
     "inputWidgets": {},
     "nuid": "9dbb17e5-90a4-48f9-991c-41bf02cf3aba",
     "showTitle": false,
     "tableResultSettingsMap": {},
     "title": ""
    }
   },
   "source": [
    "### 5.5 Formatar datas\n",
    "\n",
    "Formatarei a data para o padrão dd/mm/aaaa."
   ]
  },
  {
   "cell_type": "code",
   "execution_count": 0,
   "metadata": {
    "application/vnd.databricks.v1+cell": {
     "cellMetadata": {
      "byteLimit": 2048000,
      "rowLimit": 10000
     },
     "inputWidgets": {},
     "nuid": "12e0477e-58b9-49a3-8a02-b8933730197f",
     "showTitle": false,
     "tableResultSettingsMap": {},
     "title": ""
    }
   },
   "outputs": [],
   "source": [
    "df['DATA'] = df['DATA'].dt.strftime('%d/%m/%Y')\n",
    "\n",
    "display(df)"
   ]
  },
  {
   "cell_type": "code",
   "execution_count": 0,
   "metadata": {
    "application/vnd.databricks.v1+cell": {
     "cellMetadata": {
      "byteLimit": 2048000,
      "rowLimit": 10000
     },
     "inputWidgets": {},
     "nuid": "1400a206-402e-4585-90e5-481644435351",
     "showTitle": false,
     "tableResultSettingsMap": {},
     "title": ""
    }
   },
   "outputs": [],
   "source": [
    "toc = time.time()\n",
    "print(f'\\n\\033[33mEtapa 5 | Tempo:\\033[0;0m {tictoc(tic, toc)}')"
   ]
  },
  {
   "cell_type": "markdown",
   "metadata": {
    "application/vnd.databricks.v1+cell": {
     "cellMetadata": {
      "byteLimit": 2048000,
      "rowLimit": 10000
     },
     "inputWidgets": {},
     "nuid": "6ec9ca55-d44f-45dd-ba81-708fe9bad82b",
     "showTitle": false,
     "tableResultSettingsMap": {},
     "title": ""
    }
   },
   "source": [
    "## 6. Salva em Excel"
   ]
  },
  {
   "cell_type": "code",
   "execution_count": 0,
   "metadata": {
    "application/vnd.databricks.v1+cell": {
     "cellMetadata": {
      "byteLimit": 2048000,
      "rowLimit": 10000
     },
     "inputWidgets": {},
     "nuid": "b91dee0e-3af3-413b-816c-7130490f6ee6",
     "showTitle": false,
     "tableResultSettingsMap": {},
     "title": ""
    }
   },
   "outputs": [],
   "source": [
    "tic = time.time()\n",
    "\n",
    "de_para.to_excel(de_para_file, index=False)\n",
    "df.to_excel(output_file, index=False)\n",
    "\n",
    "toc = time.time()\n",
    "print(f'\\n\\033[33mEtapa 6 | Tempo:\\033[0;0m {tictoc(tic, toc)}')"
   ]
  },
  {
   "cell_type": "markdown",
   "metadata": {
    "application/vnd.databricks.v1+cell": {
     "cellMetadata": {
      "byteLimit": 2048000,
      "rowLimit": 10000
     },
     "inputWidgets": {},
     "nuid": "3389ecfd-e0f6-40d5-9cba-ed9d44836d4a",
     "showTitle": false,
     "tableResultSettingsMap": {},
     "title": ""
    }
   },
   "source": [
    "## 7. Tempo decorrido"
   ]
  },
  {
   "cell_type": "code",
   "execution_count": 0,
   "metadata": {
    "application/vnd.databricks.v1+cell": {
     "cellMetadata": {
      "byteLimit": 2048000,
      "rowLimit": 10000
     },
     "inputWidgets": {},
     "nuid": "332049f6-cb34-4da5-919b-0c13a48889da",
     "showTitle": false,
     "tableResultSettingsMap": {},
     "title": ""
    }
   },
   "outputs": [],
   "source": [
    "toc_geral = time.time()\n",
    "print(f'\\n\\033[33mTempo decorrido no notebook:\\033[0;0m {tictoc(tic_geral, toc_geral)}')"
   ]
  }
 ],
 "metadata": {
  "application/vnd.databricks.v1+notebook": {
   "computePreferences": {
    "hardware": {
     "accelerator": null,
     "gpuPoolId": null,
     "memory": null
    }
   },
   "dashboards": [],
   "environmentMetadata": {
    "base_environment": "",
    "environment_version": "2"
   },
   "inputWidgetPreferences": null,
   "language": "python",
   "notebookMetadata": {
    "pythonIndentUnit": 4
   },
   "notebookName": "01_base_dados",
   "widgets": {}
  },
  "kernelspec": {
   "display_name": "Python 3",
   "language": "python",
   "name": "python3"
  },
  "language_info": {
   "name": "python"
  }
 },
 "nbformat": 4,
 "nbformat_minor": 0
}

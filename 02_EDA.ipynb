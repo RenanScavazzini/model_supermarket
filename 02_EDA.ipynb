{
 "cells": [
  {
   "cell_type": "markdown",
   "metadata": {
    "application/vnd.databricks.v1+cell": {
     "cellMetadata": {},
     "inputWidgets": {},
     "nuid": "f0722da1-1601-49eb-80f2-ea7061ffb505",
     "showTitle": false,
     "tableResultSettingsMap": {},
     "title": ""
    }
   },
   "source": [
    "# Análise Exploratória dos Dados\n",
    "\n",
    "</br>\n",
    "\n",
    "<img src=\"image/python_supermercado_2025.jpg\" alt=\"Descrição da imagem\" width=\"80%\">\n",
    "\n",
    "O objetivo deste notebook é realizar a análise exploratória de dados (EDA - Exploratory Data Analysis) da base de dados."
   ]
  },
  {
   "cell_type": "markdown",
   "metadata": {
    "application/vnd.databricks.v1+cell": {
     "cellMetadata": {},
     "inputWidgets": {},
     "nuid": "acb5a43b-fb54-4ee4-aa84-6be9a4d64a8b",
     "showTitle": false,
     "tableResultSettingsMap": {},
     "title": ""
    }
   },
   "source": [
    "<img src=\"/Workspace/Users/renanscavazzini@gmail.com/github/modelos/model_supermarket/image/hr-python.png\" width=\"6.5%\">\n",
    "<img src=\"/Workspace/Users/renanscavazzini@gmail.com/github/modelos/model_supermarket/image/hr-python.png\" width=\"6.5%\">\n",
    "<img src=\"/Workspace/Users/renanscavazzini@gmail.com/github/modelos/model_supermarket/image/hr-python.png\" width=\"6.5%\">\n",
    "<img src=\"/Workspace/Users/renanscavazzini@gmail.com/github/modelos/model_supermarket/image/hr-python.png\" width=\"6.5%\">\n",
    "<img src=\"/Workspace/Users/renanscavazzini@gmail.com/github/modelos/model_supermarket/image/hr-python.png\" width=\"6.5%\">\n",
    "<img src=\"/Workspace/Users/renanscavazzini@gmail.com/github/modelos/model_supermarket/image/hr-python.png\" width=\"6.5%\">\n",
    "<img src=\"/Workspace/Users/renanscavazzini@gmail.com/github/modelos/model_supermarket/image/hr-python.png\" width=\"6.5%\">\n",
    "<img src=\"/Workspace/Users/renanscavazzini@gmail.com/github/modelos/model_supermarket/image/hr-python.png\" width=\"6.5%\">\n",
    "<img src=\"/Workspace/Users/renanscavazzini@gmail.com/github/modelos/model_supermarket/image/hr-python.png\" width=\"6.5%\">\n",
    "<img src=\"/Workspace/Users/renanscavazzini@gmail.com/github/modelos/model_supermarket/image/hr-python.png\" width=\"6.5%\">\n",
    "<img src=\"/Workspace/Users/renanscavazzini@gmail.com/github/modelos/model_supermarket/image/hr-python.png\" width=\"6.5%\">\n",
    "<img src=\"/Workspace/Users/renanscavazzini@gmail.com/github/modelos/model_supermarket/image/hr-python.png\" width=\"6.5%\">\n",
    "<img src=\"/Workspace/Users/renanscavazzini@gmail.com/github/modelos/model_supermarket/image/hr-python.png\" width=\"6.5%\">\n",
    "<img src=\"/Workspace/Users/renanscavazzini@gmail.com/github/modelos/model_supermarket/image/hr-python.png\" width=\"6.5%\">"
   ]
  },
  {
   "cell_type": "markdown",
   "metadata": {
    "application/vnd.databricks.v1+cell": {
     "cellMetadata": {},
     "inputWidgets": {},
     "nuid": "e387be68-59f0-4c75-9fd8-c6a14ae6d524",
     "showTitle": false,
     "tableResultSettingsMap": {},
     "title": ""
    }
   },
   "source": [
    "## 1. Configura as bibliotecas"
   ]
  },
  {
   "cell_type": "code",
   "execution_count": 0,
   "metadata": {
    "application/vnd.databricks.v1+cell": {
     "cellMetadata": {
      "byteLimit": 2048000,
      "rowLimit": 10000
     },
     "inputWidgets": {},
     "nuid": "29360612-0bbb-404c-be39-9b86275e0bf6",
     "showTitle": false,
     "tableResultSettingsMap": {},
     "title": ""
    }
   },
   "outputs": [],
   "source": [
    "# !pip install nfceget\n",
    "# !pip install bs4\n",
    "# !pip install openpyxl"
   ]
  },
  {
   "cell_type": "code",
   "execution_count": 0,
   "metadata": {
    "application/vnd.databricks.v1+cell": {
     "cellMetadata": {
      "byteLimit": 2048000,
      "rowLimit": 10000
     },
     "inputWidgets": {},
     "nuid": "e92e5375-e5ba-48b0-b03f-2934d70ae239",
     "showTitle": false,
     "tableResultSettingsMap": {},
     "title": ""
    }
   },
   "outputs": [],
   "source": [
    "import time\n",
    "import pandas as pd\n",
    "from functools import reduce\n",
    "from nfceget import app\n",
    "import openpyxl\n",
    "import matplotlib.pyplot as plt\n",
    "from utils.tic_toc import tictoc\n",
    "import warnings\n",
    "\n",
    "# Suprimir avisos do Pandas\n",
    "warnings.filterwarnings('ignore')"
   ]
  },
  {
   "cell_type": "markdown",
   "metadata": {
    "application/vnd.databricks.v1+cell": {
     "cellMetadata": {},
     "inputWidgets": {},
     "nuid": "d681afee-4d06-460b-9669-44aa5440c5e2",
     "showTitle": false,
     "tableResultSettingsMap": {},
     "title": ""
    }
   },
   "source": [
    "## 2. Define os parâmetros\n",
    "\n",
    "Aqui estão os parâmetros que deverão ser alterados conforme necessidade."
   ]
  },
  {
   "cell_type": "code",
   "execution_count": 0,
   "metadata": {
    "application/vnd.databricks.v1+cell": {
     "cellMetadata": {
      "byteLimit": 2048000,
      "rowLimit": 10000
     },
     "inputWidgets": {},
     "nuid": "63a6734a-9098-48d3-9557-6d9c80ae624f",
     "showTitle": false,
     "tableResultSettingsMap": {},
     "title": ""
    }
   },
   "outputs": [],
   "source": [
    "tic_geral = time.time()\n",
    "tic = time.time()\n",
    "\n",
    "# Diretório:\n",
    "dir = '/Workspace/Users/renanscavazzini@gmail.com/github/modelos/model_supermarket'\n",
    "\n",
    "# Caminhos para ler:\n",
    "base = f'{dir}/data/notas_fiscais_supermercado.xlsx'\n",
    "\n",
    "# Caminhos para salvar:\n",
    "\n",
    "# Tipos dos dados:\n",
    "var_tipos = {\n",
    "    'chave': [\n",
    "        'CHAVE',\n",
    "    ],\n",
    "    'data': [\n",
    "        'DATA',\n",
    "    ],\n",
    "    'binario': [],\n",
    "    'categorico': [ \n",
    "        'PERIODO',\n",
    "        'CATEGORIA_PRODUTO',\n",
    "    ],\n",
    "    'string': [\n",
    "        'SUPERMERCADO', \n",
    "        'PRODUTO',\n",
    "        'UNIDADE',\n",
    "    ],\n",
    "    'inteiro': [\n",
    "        'COD_PRODUTO', \n",
    "    ],\n",
    "    'numerico': [\n",
    "        'VALOR_UNIDADE', \n",
    "        'QTDE', \n",
    "        'VALOR_TOTAL',\n",
    "    ],\n",
    "}\n",
    "var_tipos"
   ]
  },
  {
   "cell_type": "code",
   "execution_count": 0,
   "metadata": {
    "application/vnd.databricks.v1+cell": {
     "cellMetadata": {
      "byteLimit": 2048000,
      "rowLimit": 10000
     },
     "inputWidgets": {},
     "nuid": "53d742bb-27d9-4fc0-aae9-93ecd458e51e",
     "showTitle": false,
     "tableResultSettingsMap": {},
     "title": ""
    }
   },
   "outputs": [],
   "source": [
    "toc = time.time()\n",
    "print(f'\\n\\033[33mEtapa 2 | Tempo:\\033[0;0m {tictoc(tic, toc)}')"
   ]
  },
  {
   "cell_type": "markdown",
   "metadata": {
    "application/vnd.databricks.v1+cell": {
     "cellMetadata": {},
     "inputWidgets": {},
     "nuid": "57cb6589-b586-4e76-8678-e36d35d3b0af",
     "showTitle": false,
     "tableResultSettingsMap": {},
     "title": ""
    }
   },
   "source": [
    "## 3. Leitura da base de dados"
   ]
  },
  {
   "cell_type": "code",
   "execution_count": 0,
   "metadata": {
    "application/vnd.databricks.v1+cell": {
     "cellMetadata": {
      "byteLimit": 2048000,
      "rowLimit": 10000
     },
     "inputWidgets": {},
     "nuid": "69b6433a-872d-4ffa-86e3-66d26d580528",
     "showTitle": false,
     "tableResultSettingsMap": {},
     "title": ""
    }
   },
   "outputs": [],
   "source": [
    "tic = time.time()\n",
    "\n",
    "df = pd.read_excel(base)\n",
    "display(df)"
   ]
  },
  {
   "cell_type": "code",
   "execution_count": 0,
   "metadata": {
    "application/vnd.databricks.v1+cell": {
     "cellMetadata": {
      "byteLimit": 2048000,
      "rowLimit": 10000
     },
     "inputWidgets": {},
     "nuid": "852e8c6c-80aa-4ee5-b20c-d8339fb5fd7b",
     "showTitle": false,
     "tableResultSettingsMap": {},
     "title": ""
    }
   },
   "outputs": [],
   "source": [
    "toc = time.time()\n",
    "print(f'\\n\\033[33mEtapa 3 | Tempo:\\033[0;0m {tictoc(tic, toc)}')"
   ]
  },
  {
   "cell_type": "markdown",
   "metadata": {
    "application/vnd.databricks.v1+cell": {
     "cellMetadata": {},
     "inputWidgets": {},
     "nuid": "4fbde120-e6f2-43b4-85c1-9f664a53b120",
     "showTitle": false,
     "tableResultSettingsMap": {},
     "title": ""
    }
   },
   "source": [
    "## 4. Categorização\n",
    "\n",
    "Na construção da base de dados foram realizadas duas categorizações:\n",
    "\n",
    "1. Período do dia\n",
    "2. Categoria do produto\n",
    "\n",
    "Vamos verificar a volumetria de cada categoria dessas variáveis."
   ]
  },
  {
   "cell_type": "code",
   "execution_count": 0,
   "metadata": {
    "application/vnd.databricks.v1+cell": {
     "cellMetadata": {
      "byteLimit": 2048000,
      "rowLimit": 10000
     },
     "inputWidgets": {},
     "nuid": "aeb2ad5c-3374-4610-802c-549afdcba250",
     "showTitle": false,
     "tableResultSettingsMap": {},
     "title": ""
    }
   },
   "outputs": [],
   "source": [
    "tic = time.time()\n",
    "\n",
    "display(df.groupby('PERIODO')['PRODUTO'].count())"
   ]
  },
  {
   "cell_type": "code",
   "execution_count": 0,
   "metadata": {
    "application/vnd.databricks.v1+cell": {
     "cellMetadata": {
      "byteLimit": 2048000,
      "rowLimit": 10000
     },
     "inputWidgets": {},
     "nuid": "d0f6afaf-6b6c-4b77-9347-717526e923ed",
     "showTitle": false,
     "tableResultSettingsMap": {},
     "title": ""
    }
   },
   "outputs": [],
   "source": [
    "display(df.groupby('CATEGORIA_PRODUTO')['PRODUTO'].count())\n",
    "\n",
    "# df[(df['CATEGORIA_PRODUTO'] == 'OUTROS') & (df['VALOR_TOTAL'] > 0)]"
   ]
  },
  {
   "cell_type": "code",
   "execution_count": 0,
   "metadata": {
    "application/vnd.databricks.v1+cell": {
     "cellMetadata": {
      "byteLimit": 2048000,
      "rowLimit": 10000
     },
     "inputWidgets": {},
     "nuid": "1e41504c-a277-40e9-9302-4d62228fb0c2",
     "showTitle": false,
     "tableResultSettingsMap": {},
     "title": ""
    }
   },
   "outputs": [],
   "source": [
    "toc = time.time()\n",
    "print(f'\\n\\033[33mEtapa 4 | Tempo:\\033[0;0m {tictoc(tic, toc)}')"
   ]
  },
  {
   "cell_type": "markdown",
   "metadata": {
    "application/vnd.databricks.v1+cell": {
     "cellMetadata": {},
     "inputWidgets": {},
     "nuid": "35931719-38ed-46f7-bb6c-07df4fc80669",
     "showTitle": false,
     "tableResultSettingsMap": {},
     "title": ""
    }
   },
   "source": [
    "## 5. Tratamento de inconsistências"
   ]
  },
  {
   "cell_type": "code",
   "execution_count": 0,
   "metadata": {
    "application/vnd.databricks.v1+cell": {
     "cellMetadata": {
      "byteLimit": 2048000,
      "rowLimit": 10000
     },
     "inputWidgets": {},
     "nuid": "afcc49a8-5829-401b-97b5-f7c64aa44659",
     "showTitle": false,
     "tableResultSettingsMap": {},
     "title": ""
    }
   },
   "outputs": [],
   "source": [
    "tic = time.time()"
   ]
  },
  {
   "cell_type": "markdown",
   "metadata": {
    "application/vnd.databricks.v1+cell": {
     "cellMetadata": {},
     "inputWidgets": {},
     "nuid": "d55b68c4-9ef5-48f4-97f0-027bb51621c1",
     "showTitle": false,
     "tableResultSettingsMap": {},
     "title": ""
    }
   },
   "source": [
    "### 5.1 Tipos de dados\n",
    "\n",
    "Garantindo que a base de dados estão do tipo correto para cada variável."
   ]
  },
  {
   "cell_type": "code",
   "execution_count": 0,
   "metadata": {
    "application/vnd.databricks.v1+cell": {
     "cellMetadata": {
      "byteLimit": 2048000,
      "rowLimit": 10000
     },
     "inputWidgets": {},
     "nuid": "ab18765c-5e9a-42e1-a5c9-d16db572fe2e",
     "showTitle": false,
     "tableResultSettingsMap": {},
     "title": ""
    }
   },
   "outputs": [],
   "source": [
    "# Garantindo que os tipos dos dados estão corretos\n",
    "for tipo, colunas in var_tipos.items():\n",
    "    for coluna in colunas:\n",
    "        if tipo == 'data':\n",
    "            df[coluna] = pd.to_datetime(df[coluna], dayfirst=True, errors='coerce')\n",
    "        elif tipo == 'binario':\n",
    "            df[coluna] = df[coluna].astype('bool')\n",
    "        elif tipo == 'categorico':\n",
    "            df[coluna] = df[coluna].astype('category')\n",
    "        elif tipo == 'string':\n",
    "            df[coluna] = df[coluna].astype(str)\n",
    "        elif tipo == 'inteiro':\n",
    "            df[coluna] = pd.to_numeric(df[coluna], errors='coerce').astype('Int64')\n",
    "        elif tipo == 'numerico':\n",
    "            df[coluna] = pd.to_numeric(df[coluna], errors='coerce')\n",
    "\n",
    "display(df.dtypes)"
   ]
  },
  {
   "cell_type": "code",
   "execution_count": 0,
   "metadata": {
    "application/vnd.databricks.v1+cell": {
     "cellMetadata": {
      "byteLimit": 2048000,
      "rowLimit": 10000
     },
     "inputWidgets": {},
     "nuid": "bf6b738a-1346-40fa-9170-66b233b9abf1",
     "showTitle": false,
     "tableResultSettingsMap": {},
     "title": ""
    }
   },
   "outputs": [],
   "source": [
    "display(df.head())"
   ]
  },
  {
   "cell_type": "markdown",
   "metadata": {
    "application/vnd.databricks.v1+cell": {
     "cellMetadata": {},
     "inputWidgets": {},
     "nuid": "d160c1e5-bb68-4480-b94b-9c5a3150ee86",
     "showTitle": false,
     "tableResultSettingsMap": {},
     "title": ""
    }
   },
   "source": [
    "### 5.2 Produtos únicos\n",
    "\n",
    "A base de dados contém uma chave única que representa cada produto do supermercado: o código do produto. No entanto, os nomes associados a esses produtos podem mudar ao longo do tempo. O ideal é que exista apenas um nome para cada código. Para garantir que não haja esse tipo de inconsistência, será utilizado o nome mais recente de cada produto.\n",
    "\n",
    "Além disso, pode ser que um produto tenha códigos diferentes para o mesmo nome, pode ser que seja por exemplo um produto com sabor diferente, mas o nome não específica isso. Essa inconsistência será corrijida substrituindo o código do produto pelo código maior (mais recente), pois no final das contas o produto acaba sendo o mesmo."
   ]
  },
  {
   "cell_type": "code",
   "execution_count": 0,
   "metadata": {
    "application/vnd.databricks.v1+cell": {
     "cellMetadata": {
      "byteLimit": 2048000,
      "rowLimit": 10000
     },
     "inputWidgets": {},
     "nuid": "e7892f1e-db54-4fb5-a783-b415da332db0",
     "showTitle": false,
     "tableResultSettingsMap": {},
     "title": ""
    }
   },
   "outputs": [],
   "source": [
    "# Códigos de produtos distintos:\n",
    "print(f\"Há \\033[93m{df['COD_PRODUTO'].nunique()}\\033[0m código(s) de produto(s) distinto(s).\")\n",
    "\n",
    "# Nomes de produtos distintos:\n",
    "print(f\"Há \\033[93m{df['PRODUTO'].nunique()}\\033[0m nome(s) de produto(s) distinto(s).\")"
   ]
  },
  {
   "cell_type": "code",
   "execution_count": 0,
   "metadata": {
    "application/vnd.databricks.v1+cell": {
     "cellMetadata": {
      "byteLimit": 2048000,
      "rowLimit": 10000
     },
     "inputWidgets": {},
     "nuid": "c2b31067-e43f-45e6-8d65-f2755e899ec3",
     "showTitle": false,
     "tableResultSettingsMap": {},
     "title": ""
    }
   },
   "outputs": [],
   "source": [
    "# Ordenando o DataFrame por 'COD_PRODUTO' e 'DATA'\n",
    "df = df.sort_values(by=['PRODUTO', 'COD_PRODUTO', 'DATA'])\n",
    "\n",
    "# Criando um dicionário com o maior código para cada nome de produto\n",
    "maior_codigo_produto = df.groupby('PRODUTO')['COD_PRODUTO'].max()\n",
    "\n",
    "# Aplicando o maior código para cada produto\n",
    "df['COD_PRODUTO'] = df['PRODUTO'].map(maior_codigo_produto)\n",
    "\n",
    "# Criando um dicionário com o nome mais recente de cada produto\n",
    "produto_mais_recente = df.drop_duplicates(subset='COD_PRODUTO', keep='last').set_index('COD_PRODUTO')['PRODUTO']\n",
    "\n",
    "# Aplicando o nome mais recente para cada produto\n",
    "df['PRODUTO'] = df['COD_PRODUTO'].map(produto_mais_recente)\n",
    "\n",
    "print(f\"Há \\033[93m{df['COD_PRODUTO'].nunique()}\\033[0m código(s) de produto(s) distinto(s).\")\n",
    "print(f\"Há \\033[93m{df['PRODUTO'].nunique()}\\033[0m nome(s) de produto(s) distinto(s).\")"
   ]
  },
  {
   "cell_type": "code",
   "execution_count": 0,
   "metadata": {
    "application/vnd.databricks.v1+cell": {
     "cellMetadata": {
      "byteLimit": 2048000,
      "rowLimit": 10000
     },
     "inputWidgets": {},
     "nuid": "c9696e94-7f78-49e7-94a4-d2bf06d584d5",
     "showTitle": false,
     "tableResultSettingsMap": {},
     "title": ""
    }
   },
   "outputs": [],
   "source": [
    "# Nome do produto é o mesmo mas o código do produto é diferente\n",
    "df_aux1 = df.groupby('COD_PRODUTO').filter(lambda x: x['PRODUTO'].nunique() > 1)\n",
    "print(f\"Há \\033[93m{df_aux1['COD_PRODUTO'].nunique()}\\033[0m código(s) de produto(s) com o mesmo código mas com nome(s) diferente(s)\")\n",
    "print(f\"Há \\033[93m{df_aux1['PRODUTO'].nunique()}\\033[0m nome(s) de produto(s) com o mesmo código mas com nome(s) diferente(s)\")"
   ]
  },
  {
   "cell_type": "code",
   "execution_count": 0,
   "metadata": {
    "application/vnd.databricks.v1+cell": {
     "cellMetadata": {
      "byteLimit": 2048000,
      "rowLimit": 10000
     },
     "inputWidgets": {},
     "nuid": "cb250f1f-da0c-4242-ade1-83f3f1bd9d39",
     "showTitle": false,
     "tableResultSettingsMap": {},
     "title": ""
    }
   },
   "outputs": [],
   "source": [
    "toc = time.time()\n",
    "print(f'\\n\\033[33mEtapa 5 | Tempo:\\033[0;0m {tictoc(tic, toc)}')"
   ]
  },
  {
   "cell_type": "markdown",
   "metadata": {
    "application/vnd.databricks.v1+cell": {
     "cellMetadata": {},
     "inputWidgets": {},
     "nuid": "7a1d1a97-0cfa-4247-b567-59c39d8ec571",
     "showTitle": false,
     "tableResultSettingsMap": {},
     "title": ""
    }
   },
   "source": [
    "## 6. Propriedades"
   ]
  },
  {
   "cell_type": "code",
   "execution_count": 0,
   "metadata": {
    "application/vnd.databricks.v1+cell": {
     "cellMetadata": {
      "byteLimit": 2048000,
      "rowLimit": 10000
     },
     "inputWidgets": {},
     "nuid": "19158bdc-29c3-4c8d-9a5c-5cb92d9ab447",
     "showTitle": false,
     "tableResultSettingsMap": {},
     "title": ""
    }
   },
   "outputs": [],
   "source": [
    "tic = time.time()"
   ]
  },
  {
   "cell_type": "code",
   "execution_count": 0,
   "metadata": {
    "application/vnd.databricks.v1+cell": {
     "cellMetadata": {
      "byteLimit": 2048000,
      "rowLimit": 10000
     },
     "inputWidgets": {},
     "nuid": "5fa58c6b-f09e-4b59-9c0a-5fd41ef1b637",
     "showTitle": false,
     "tableResultSettingsMap": {},
     "title": ""
    }
   },
   "outputs": [],
   "source": [
    "# Calcula o total de gastos\n",
    "total_gastos = df['VALOR_TOTAL'].sum()\n",
    "\n",
    "# Idas ao mercado\n",
    "idas = df['CHAVE'].nunique()\n",
    "\n",
    "# Calcula a média de gastos por nota fiscal\n",
    "media_gastos = total_gastos / idas\n",
    "\n",
    "print(f\"Total de gastos: R$ {round(total_gastos,2)}\")\n",
    "print(f\"Quantidade de idas ao mercado: {idas}\")\n",
    "print(f\"Média de gastos por nota fiscal: {round(media_gastos,2)}\")"
   ]
  },
  {
   "cell_type": "code",
   "execution_count": 0,
   "metadata": {
    "application/vnd.databricks.v1+cell": {
     "cellMetadata": {
      "byteLimit": 2048000,
      "rowLimit": 10000
     },
     "inputWidgets": {},
     "nuid": "988e03d3-6086-433a-8c97-abbb426657a9",
     "showTitle": false,
     "tableResultSettingsMap": {},
     "title": ""
    }
   },
   "outputs": [],
   "source": [
    "# Valor total gasto por data\n",
    "total_por_data = df.groupby(df['DATA'].dt.date)['VALOR_TOTAL'].sum()\n",
    "\n",
    "# Valor total gasto por mês\n",
    "total_por_mes = df.groupby(df['DATA'].dt.to_period('M'))['VALOR_TOTAL'].sum()\n",
    "\n",
    "# Valor total gasto por ano\n",
    "total_por_ano = df.groupby(df['DATA'].dt.year)['VALOR_TOTAL'].sum()\n",
    "\n",
    "print(f\"Valor total gasto por data:\")\n",
    "display(total_por_data)\n",
    "print(f\"\\nValor total gasto por mês:\")\n",
    "display(total_por_mes)\n",
    "print(f\"\\nValor total gasto por ano:\")\n",
    "display(total_por_ano)"
   ]
  },
  {
   "cell_type": "code",
   "execution_count": 0,
   "metadata": {
    "application/vnd.databricks.v1+cell": {
     "cellMetadata": {
      "byteLimit": 2048000,
      "rowLimit": 10000
     },
     "inputWidgets": {},
     "nuid": "f0db28ca-b60f-4872-abad-1334da5ada7a",
     "showTitle": false,
     "tableResultSettingsMap": {},
     "title": ""
    }
   },
   "outputs": [],
   "source": [
    "# Calcula o dia que mais e menos gastou e o gasto médio por dia\n",
    "dia_mais_gasto = total_por_data.idxmax()\n",
    "dia_menos_gasto = total_por_data.idxmin()\n",
    "media_gasto_dia = total_por_data.mean()\n",
    "\n",
    "print(f\"Dia que mais gastou: {dia_mais_gasto} com valor total de {total_por_data[dia_mais_gasto]}\")\n",
    "print(f\"Dia que menos gastou: {dia_menos_gasto} com valor total de {total_por_data[dia_menos_gasto]}\")\n",
    "print(f\"Gasto médio por dia: {media_gasto_dia}\")\n",
    "\n",
    "# Calcula o mês que mais e menos gastou e o gasto médio por mês\n",
    "mes_mais_gasto = total_por_mes.idxmax()\n",
    "mes_menos_gasto = total_por_mes.idxmin()\n",
    "media_gasto_mes = total_por_mes.mean()\n",
    "\n",
    "print(f\"\\nMês que mais gastou: {mes_mais_gasto} com valor total de {total_por_mes[mes_mais_gasto]}\")\n",
    "print(f\"Mês que menos gastou: {mes_menos_gasto} com valor total de {total_por_mes[mes_menos_gasto]}\")\n",
    "print(f\"Gasto médio por mês: {media_gasto_mes}\")\n",
    "\n",
    "# Calcula o ano que mais e menos gastou e o gasto médio por ano\n",
    "ano_mais_gasto = total_por_ano.idxmax()\n",
    "ano_menos_gasto = total_por_ano.idxmin()\n",
    "media_gasto_ano = total_por_ano.mean()\n",
    "\n",
    "print(f\"\\nAno que mais gastou: {ano_mais_gasto} com valor total de {total_por_ano[ano_mais_gasto]}\")\n",
    "print(f\"Ano que menos gastou: {ano_menos_gasto} com valor total de {total_por_ano[ano_menos_gasto]}\")\n",
    "print(f\"Gasto médio por ano: {media_gasto_ano}\")"
   ]
  },
  {
   "cell_type": "code",
   "execution_count": 0,
   "metadata": {
    "application/vnd.databricks.v1+cell": {
     "cellMetadata": {
      "byteLimit": 2048000,
      "rowLimit": 10000
     },
     "inputWidgets": {},
     "nuid": "cb52a38b-a3a3-4e15-bb4c-f6f5611f93de",
     "showTitle": false,
     "tableResultSettingsMap": {},
     "title": ""
    }
   },
   "outputs": [],
   "source": [
    "# Valor total gasto por supermercado:\n",
    "total_por_supermercado = df.groupby('SUPERMERCADO')['VALOR_TOTAL'].sum()\n",
    "print(f\"Valor total gasto por supermercado:\\n{total_por_supermercado}\")"
   ]
  },
  {
   "cell_type": "code",
   "execution_count": 0,
   "metadata": {
    "application/vnd.databricks.v1+cell": {
     "cellMetadata": {
      "byteLimit": 2048000,
      "rowLimit": 10000
     },
     "inputWidgets": {},
     "nuid": "2f69c06d-3043-4c29-bea7-150394cfae36",
     "showTitle": false,
     "tableResultSettingsMap": {},
     "title": ""
    }
   },
   "outputs": [],
   "source": [
    "# Valor total gasto por período:\n",
    "total_por_supermercado = df.groupby('PERIODO')['VALOR_TOTAL'].sum()\n",
    "print(f\"Valor total gasto por período:\\n{total_por_supermercado}\")"
   ]
  },
  {
   "cell_type": "code",
   "execution_count": 0,
   "metadata": {
    "application/vnd.databricks.v1+cell": {
     "cellMetadata": {
      "byteLimit": 2048000,
      "rowLimit": 10000
     },
     "inputWidgets": {},
     "nuid": "9e98961c-e975-433c-8fa5-5af9a5a85176",
     "showTitle": false,
     "tableResultSettingsMap": {},
     "title": ""
    }
   },
   "outputs": [],
   "source": [
    "# Agrupa os dados por produto e soma a quantidade de cada produto\n",
    "soma_quantidade = df.groupby('PRODUTO')['QTDE'].sum()\n",
    "\n",
    "# Encontra o produto que você mais comprou\n",
    "produto_mais_comprado = soma_quantidade.idxmax()\n",
    "\n",
    "# Filtra o DataFrame para incluir apenas o produto que você mais comprou\n",
    "df_produto_mais_comprado = df[df['PRODUTO'] == produto_mais_comprado]\n",
    "\n",
    "# Certifica-se de que a coluna 'DATA' é do tipo datetime\n",
    "df_produto_mais_comprado['DATA'] = pd.to_datetime(df_produto_mais_comprado['DATA'])\n",
    "\n",
    "# Calcula a quantidade total comprada e o total gasto para o produto mais comprado\n",
    "total_quantidade_produto_mais_comprado = df_produto_mais_comprado['QTDE'].sum()\n",
    "total_gastos_produto_mais_comprado = df_produto_mais_comprado['VALOR_TOTAL'].sum()\n",
    "\n",
    "print(f\"O produto que mais comprei foi: {produto_mais_comprado}\")\n",
    "print(f\"Quantidade comprada: {total_quantidade_produto_mais_comprado}\")\n",
    "print(f\"Total gasto: {total_gastos_produto_mais_comprado}\")\n",
    "\n",
    "# Agrupa os dados por mês e soma a quantidade e o valor total\n",
    "soma_por_mes = df_produto_mais_comprado.groupby(df_produto_mais_comprado['DATA'].dt.to_period('M')).agg({'QTDE': 'sum', 'VALOR_TOTAL': 'sum'})\n",
    "\n",
    "print(f\"\\nSoma da quantidade e valor total do produto '{produto_mais_comprado}' por mês:\\n{soma_por_mes}\")"
   ]
  },
  {
   "cell_type": "code",
   "execution_count": 0,
   "metadata": {
    "application/vnd.databricks.v1+cell": {
     "cellMetadata": {
      "byteLimit": 2048000,
      "rowLimit": 10000
     },
     "inputWidgets": {},
     "nuid": "937d4e33-3721-4d88-af5c-f9ed26abe423",
     "showTitle": false,
     "tableResultSettingsMap": {},
     "title": ""
    }
   },
   "outputs": [],
   "source": [
    "df_unitario = df[['PRODUTO', 'VALOR_UNIDADE', 'DATA']].drop_duplicates()\n",
    "df_unitario.sort_values('DATA', inplace=True)\n",
    "df_unitario.sort_values('PRODUTO', inplace=True)\n",
    "\n",
    "# Obtém a lista de produtos únicos\n",
    "produtos = df_unitario['PRODUTO'].unique()\n",
    "\n",
    "# Para cada produto, cria uma subtabela e a ordena por data\n",
    "subtabelas = {produto: df_unitario[df_unitario['PRODUTO'] == produto].sort_values('DATA') for produto in produtos}\n",
    "\n",
    "# Agora, 'subtabelas' é um dicionário onde cada chave é um produto e cada valor é uma subtabela para aquele produto\n",
    "# Você pode acessar a subtabela para um produto específico da seguinte maneira:\n",
    "\n",
    "num_produto = 10\n",
    "print(subtabelas[df_unitario['PRODUTO'].unique()[num_produto]])"
   ]
  },
  {
   "cell_type": "code",
   "execution_count": 0,
   "metadata": {
    "application/vnd.databricks.v1+cell": {
     "cellMetadata": {
      "byteLimit": 2048000,
      "rowLimit": 10000
     },
     "inputWidgets": {},
     "nuid": "19d601a1-c60f-4267-8b79-44541767496a",
     "showTitle": false,
     "tableResultSettingsMap": {},
     "title": ""
    }
   },
   "outputs": [],
   "source": [
    "# Cria um dicionário onde a chave é o produto e o valor é o número de linhas da subtabela\n",
    "tamanho_subtabelas = {produto: len(subtabela) for produto, subtabela in subtabelas.items() if len(subtabela) > 1}\n",
    "\n",
    "# Ordena o dicionário pelo número de linhas em ordem decrescente\n",
    "tamanho_subtabelas_ordenado = dict(sorted(tamanho_subtabelas.items(), key=lambda item: item[1], reverse=True))\n",
    "\n",
    "# Para cada produto no dicionário ordenado, imprime o índice da subtabela correspondente\n",
    "for produto in tamanho_subtabelas_ordenado.keys():\n",
    "    print(f\"Índice da subtabela para o produto '{produto}':\\n{subtabelas[produto]}\\n\")"
   ]
  },
  {
   "cell_type": "code",
   "execution_count": 0,
   "metadata": {
    "application/vnd.databricks.v1+cell": {
     "cellMetadata": {
      "byteLimit": 2048000,
      "rowLimit": 10000
     },
     "inputWidgets": {},
     "nuid": "99a6c1df-2eae-47c7-9a60-233355ab13a6",
     "showTitle": false,
     "tableResultSettingsMap": {},
     "title": ""
    }
   },
   "outputs": [],
   "source": [
    "# Para cada produto, verifica se a palavra está contida no nome do produto\n",
    "palavra = 'whisky'\n",
    "for produto, subtabela in subtabelas.items():\n",
    "    if palavra in produto.lower():\n",
    "        print(f\"Índice da subtabela para o produto '{produto}':\\n{subtabelas[produto]}\\n\")"
   ]
  },
  {
   "cell_type": "code",
   "execution_count": 0,
   "metadata": {
    "application/vnd.databricks.v1+cell": {
     "cellMetadata": {
      "byteLimit": 2048000,
      "rowLimit": 10000
     },
     "inputWidgets": {},
     "nuid": "41c599a4-9a59-4d90-adbc-2dcbdeef1497",
     "showTitle": false,
     "tableResultSettingsMap": {},
     "title": ""
    }
   },
   "outputs": [],
   "source": [
    "toc = time.time()\n",
    "print(f'\\n\\033[33mEtapa 6 | Tempo:\\033[0;0m {tictoc(tic, toc)}')"
   ]
  },
  {
   "cell_type": "markdown",
   "metadata": {
    "application/vnd.databricks.v1+cell": {
     "cellMetadata": {},
     "inputWidgets": {},
     "nuid": "b8813884-24d9-4ad0-b6b5-fcd3689f2e90",
     "showTitle": false,
     "tableResultSettingsMap": {},
     "title": ""
    }
   },
   "source": [
    "## 7. Análise gráfica"
   ]
  },
  {
   "cell_type": "code",
   "execution_count": 0,
   "metadata": {
    "application/vnd.databricks.v1+cell": {
     "cellMetadata": {
      "byteLimit": 2048000,
      "rowLimit": 10000
     },
     "inputWidgets": {},
     "nuid": "2b1f4436-0e7f-4b22-8604-62ef7bbbf471",
     "showTitle": false,
     "tableResultSettingsMap": {},
     "title": ""
    }
   },
   "outputs": [],
   "source": [
    "tic = time.time()"
   ]
  },
  {
   "cell_type": "code",
   "execution_count": 0,
   "metadata": {
    "application/vnd.databricks.v1+cell": {
     "cellMetadata": {},
     "inputWidgets": {},
     "nuid": "086cc7f8-c359-4b37-97cf-a2ccab6af1a7",
     "showTitle": false,
     "tableResultSettingsMap": {},
     "title": ""
    }
   },
   "outputs": [],
   "source": []
  },
  {
   "cell_type": "code",
   "execution_count": 0,
   "metadata": {
    "application/vnd.databricks.v1+cell": {
     "cellMetadata": {
      "byteLimit": 2048000,
      "rowLimit": 10000
     },
     "inputWidgets": {},
     "nuid": "1becb53c-e821-488d-b170-8452fa570fee",
     "showTitle": false,
     "tableResultSettingsMap": {},
     "title": ""
    }
   },
   "outputs": [],
   "source": [
    "toc = time.time()\n",
    "print(f'\\n\\033[33mEtapa 7 | Tempo:\\033[0;0m {tictoc(tic, toc)}')"
   ]
  },
  {
   "cell_type": "markdown",
   "metadata": {
    "application/vnd.databricks.v1+cell": {
     "cellMetadata": {},
     "inputWidgets": {},
     "nuid": "7712ad5b-f9a5-458a-9884-1a2a88cb550e",
     "showTitle": false,
     "tableResultSettingsMap": {},
     "title": ""
    }
   },
   "source": [
    "## 8. Estudo de domínio"
   ]
  },
  {
   "cell_type": "code",
   "execution_count": 0,
   "metadata": {
    "application/vnd.databricks.v1+cell": {
     "cellMetadata": {
      "byteLimit": 2048000,
      "rowLimit": 10000
     },
     "inputWidgets": {},
     "nuid": "24409f7c-bf3b-4a4c-8f65-c16ffc4b4b40",
     "showTitle": false,
     "tableResultSettingsMap": {},
     "title": ""
    }
   },
   "outputs": [],
   "source": [
    "tic = time.time()"
   ]
  },
  {
   "cell_type": "code",
   "execution_count": 0,
   "metadata": {
    "application/vnd.databricks.v1+cell": {
     "cellMetadata": {},
     "inputWidgets": {},
     "nuid": "7b61d3ef-a3cd-4c7b-b33e-59fc748c3aa7",
     "showTitle": false,
     "tableResultSettingsMap": {},
     "title": ""
    }
   },
   "outputs": [],
   "source": []
  },
  {
   "cell_type": "code",
   "execution_count": 0,
   "metadata": {
    "application/vnd.databricks.v1+cell": {
     "cellMetadata": {
      "byteLimit": 2048000,
      "rowLimit": 10000
     },
     "inputWidgets": {},
     "nuid": "81791f9e-28d8-4910-a98d-8e8573b32586",
     "showTitle": false,
     "tableResultSettingsMap": {},
     "title": ""
    }
   },
   "outputs": [],
   "source": [
    "toc = time.time()\n",
    "print(f'\\n\\033[33mEtapa 8 | Tempo:\\033[0;0m {tictoc(tic, toc)}')"
   ]
  },
  {
   "cell_type": "markdown",
   "metadata": {
    "application/vnd.databricks.v1+cell": {
     "cellMetadata": {},
     "inputWidgets": {},
     "nuid": "2af6e605-b031-40bb-b96c-2b823b941ed0",
     "showTitle": false,
     "tableResultSettingsMap": {},
     "title": ""
    }
   },
   "source": [
    "## 9. Análise de outliers"
   ]
  },
  {
   "cell_type": "code",
   "execution_count": 0,
   "metadata": {
    "application/vnd.databricks.v1+cell": {
     "cellMetadata": {
      "byteLimit": 2048000,
      "rowLimit": 10000
     },
     "inputWidgets": {},
     "nuid": "aa8e3127-71dd-40d0-89ae-e70ef3961cba",
     "showTitle": false,
     "tableResultSettingsMap": {},
     "title": ""
    }
   },
   "outputs": [],
   "source": [
    "tic = time.time()"
   ]
  },
  {
   "cell_type": "code",
   "execution_count": 0,
   "metadata": {
    "application/vnd.databricks.v1+cell": {
     "cellMetadata": {},
     "inputWidgets": {},
     "nuid": "041315b5-6bed-4265-8102-ca91d2de3b02",
     "showTitle": false,
     "tableResultSettingsMap": {},
     "title": ""
    }
   },
   "outputs": [],
   "source": []
  },
  {
   "cell_type": "code",
   "execution_count": 0,
   "metadata": {
    "application/vnd.databricks.v1+cell": {
     "cellMetadata": {
      "byteLimit": 2048000,
      "rowLimit": 10000
     },
     "inputWidgets": {},
     "nuid": "00c5a297-09fa-451d-8ecd-7dcbf34f0e76",
     "showTitle": false,
     "tableResultSettingsMap": {},
     "title": ""
    }
   },
   "outputs": [],
   "source": [
    "toc = time.time()\n",
    "print(f'\\n\\033[33mEtapa 9 | Tempo:\\033[0;0m {tictoc(tic, toc)}')"
   ]
  },
  {
   "cell_type": "markdown",
   "metadata": {
    "application/vnd.databricks.v1+cell": {
     "cellMetadata": {},
     "inputWidgets": {},
     "nuid": "84ec3f87-c3f8-4242-b3f8-de6060d2a3ce",
     "showTitle": false,
     "tableResultSettingsMap": {},
     "title": ""
    }
   },
   "source": [
    "## 10. Transformações"
   ]
  },
  {
   "cell_type": "code",
   "execution_count": 0,
   "metadata": {
    "application/vnd.databricks.v1+cell": {
     "cellMetadata": {
      "byteLimit": 2048000,
      "rowLimit": 10000
     },
     "inputWidgets": {},
     "nuid": "5152bbde-8a78-4dbe-96a8-b43e31e87162",
     "showTitle": false,
     "tableResultSettingsMap": {},
     "title": ""
    }
   },
   "outputs": [],
   "source": [
    "tic = time.time()"
   ]
  },
  {
   "cell_type": "code",
   "execution_count": 0,
   "metadata": {
    "application/vnd.databricks.v1+cell": {
     "cellMetadata": {},
     "inputWidgets": {},
     "nuid": "f1595e10-ea16-4764-86e1-bd469a2b4459",
     "showTitle": false,
     "tableResultSettingsMap": {},
     "title": ""
    }
   },
   "outputs": [],
   "source": []
  },
  {
   "cell_type": "code",
   "execution_count": 0,
   "metadata": {
    "application/vnd.databricks.v1+cell": {
     "cellMetadata": {
      "byteLimit": 2048000,
      "rowLimit": 10000
     },
     "inputWidgets": {},
     "nuid": "d76fdf9a-b889-4e5e-84c0-d4179120d20c",
     "showTitle": false,
     "tableResultSettingsMap": {},
     "title": ""
    }
   },
   "outputs": [],
   "source": [
    "toc = time.time()\n",
    "print(f'\\n\\033[33mEtapa 10 | Tempo:\\033[0;0m {tictoc(tic, toc)}')"
   ]
  },
  {
   "cell_type": "markdown",
   "metadata": {
    "application/vnd.databricks.v1+cell": {
     "cellMetadata": {},
     "inputWidgets": {},
     "nuid": "c2546fcd-0670-440c-838a-c4a8fda9355d",
     "showTitle": false,
     "tableResultSettingsMap": {},
     "title": ""
    }
   },
   "source": [
    "## 11. Tempo decorrido"
   ]
  },
  {
   "cell_type": "code",
   "execution_count": 0,
   "metadata": {
    "application/vnd.databricks.v1+cell": {
     "cellMetadata": {},
     "inputWidgets": {},
     "nuid": "06b790b6-8f78-4631-8e72-8747072e5d7a",
     "showTitle": false,
     "tableResultSettingsMap": {},
     "title": ""
    }
   },
   "outputs": [],
   "source": [
    "toc_geral = time.time()\n",
    "print(f'\\n\\033[33mTempo decorrido no notebook:\\033[0;0m {tictoc(tic_geral, toc_geral)}')"
   ]
  },
  {
   "cell_type": "markdown",
   "metadata": {
    "application/vnd.databricks.v1+cell": {
     "cellMetadata": {},
     "inputWidgets": {},
     "nuid": "30129615-a5a5-4f07-9526-07a47e3e7e65",
     "showTitle": false,
     "tableResultSettingsMap": {},
     "title": ""
    }
   },
   "source": [
    "Previsão de Demanda: Use técnicas de séries temporais para prever a demanda futura de cada produto, permitindo ao supermercado ajustar seus estoques com mais eficiência e reduzir desperdícios.\n",
    "\n",
    "Recomendação de Produtos: Desenvolva um sistema de recomendação personalizado baseado nos hábitos de compra dos clientes, sugerindo produtos que eles possam estar interessados em comprar.\n",
    "\n",
    "Análise de Cesta de Compras: Utilize algoritmos de associação para identificar padrões de compra, como quais produtos são frequentemente comprados juntos. Isso pode ajudar a criar promoções ou combos de produtos.\n",
    "\n",
    "Classificação de Produtos: Automatize a classificação de novos produtos com base nas descrições e características, facilitando a organização do inventário.\n",
    "\n",
    "Análise de Sentimento: Se houver dados de feedback dos clientes, você pode aplicar técnicas de processamento de linguagem natural (NLP) para analisar o sentimento e entender melhor as opiniões dos clientes sobre os produtos.\n",
    "\n",
    "Detecção de Anomalias: Use técnicas de detecção de anomalias para identificar transações suspeitas ou inconsistências nos dados, ajudando a detectar fraudes ou erros de entrada de dados.\n",
    "\n",
    "Segmentação de Clientes: Aplique clustering para segmentar clientes com base em seus comportamentos de compra, permitindo campanhas de marketing mais direcionadas e eficazes.\n",
    "\n",
    "Análise de Preços: Utilize machine learning para analisar a elasticidade de preços e identificar o impacto de mudanças de preços na demanda dos produtos.\n",
    "\n"
   ]
  }
 ],
 "metadata": {
  "application/vnd.databricks.v1+notebook": {
   "computePreferences": null,
   "dashboards": [],
   "environmentMetadata": null,
   "inputWidgetPreferences": null,
   "language": "python",
   "notebookMetadata": {
    "pythonIndentUnit": 4
   },
   "notebookName": "02_EDA",
   "widgets": {}
  },
  "kernelspec": {
   "display_name": "Python 3",
   "language": "python",
   "name": "python3"
  },
  "language_info": {
   "name": "python"
  }
 },
 "nbformat": 4,
 "nbformat_minor": 0
}
